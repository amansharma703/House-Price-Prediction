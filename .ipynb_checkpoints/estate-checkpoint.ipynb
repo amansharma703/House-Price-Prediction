{
 "cells": [
  {
   "cell_type": "markdown",
   "id": "e4f48d55-60a1-46b4-ae6e-1a23472a57e8",
   "metadata": {},
   "source": [
    "## Real Estate Price Predictor"
   ]
  },
  {
   "cell_type": "code",
   "execution_count": null,
   "id": "a0e36f06-fe25-4ebc-8769-6f7733c1131c",
   "metadata": {},
   "outputs": [],
   "source": [
    "import pandas as pd"
   ]
  },
  {
   "cell_type": "code",
   "execution_count": null,
   "id": "15d4fb4f-00b9-4c46-83c5-a09157ab493c",
   "metadata": {},
   "outputs": [],
   "source": [
    "housing = pd.read_csv(\"data.csv\")"
   ]
  }
 ],
 "metadata": {
  "kernelspec": {
   "display_name": "Python 3 (ipykernel)",
   "language": "python",
   "name": "python3"
  },
  "language_info": {
   "codemirror_mode": {
    "name": "ipython",
    "version": 3
   },
   "file_extension": ".py",
   "mimetype": "text/x-python",
   "name": "python",
   "nbconvert_exporter": "python",
   "pygments_lexer": "ipython3",
   "version": "3.9.0"
  }
 },
 "nbformat": 4,
 "nbformat_minor": 5
}
